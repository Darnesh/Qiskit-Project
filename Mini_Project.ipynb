{
 "cells": [
  {
   "cell_type": "code",
   "execution_count": 2,
   "id": "81d07a29-6cb4-45f3-9496-733cf1f3f619",
   "metadata": {
    "tags": []
   },
   "outputs": [],
   "source": [
    "# Importing standard Qiskit libraries\n",
    "from qiskit import QuantumCircuit, transpile\n",
    "from qiskit.tools.jupyter import *\n",
    "from qiskit.visualization import *\n",
    "from ibm_quantum_widgets import *\n",
    "from qiskit_aer import AerSimulator\n",
    "\n",
    "# qiskit-ibmq-provider has been deprecated.\n",
    "# Please see the Migration Guides in https://ibm.biz/provider_migration_guide for more detail.\n",
    "from qiskit_ibm_runtime import QiskitRuntimeService, Sampler, Estimator, Session, Options\n",
    "\n",
    "# Loading your IBM Quantum account(s)\n",
    "service = QiskitRuntimeService(channel=\"ibm_quantum\")\n",
    "\n",
    "# Invoke a primitive inside a session. For more details see https://qiskit.org/documentation/partners/qiskit_ibm_runtime/tutorials.html\n",
    "# with Session(backend=service.backend(\"ibmq_qasm_simulator\")):\n",
    "#     result = Sampler().run(circuits).result()"
   ]
  },
  {
   "cell_type": "code",
   "execution_count": 3,
   "id": "98bd6627-2860-4aaa-a203-d44c5523cde6",
   "metadata": {
    "tags": []
   },
   "outputs": [
    {
     "name": "stdout",
     "output_type": "stream",
     "text": [
      "State before the oracle:\n",
      "Statevector([ 1.+0.j, -0.+0.j,  0.+0.j, -0.+0.j,  0.+0.j, -0.+0.j,  0.+0.j,\n",
      "             -0.+0.j,  0.+0.j, -0.+0.j,  0.+0.j, -0.+0.j,  0.+0.j, -0.+0.j,\n",
      "              0.+0.j, -0.+0.j,  0.+0.j,  0.+0.j,  0.+0.j,  0.+0.j,  0.+0.j,\n",
      "              0.+0.j,  0.+0.j,  0.+0.j,  0.+0.j,  0.+0.j,  0.+0.j,  0.+0.j,\n",
      "              0.+0.j,  0.+0.j,  0.+0.j,  0.+0.j],\n",
      "            dims=(2, 2, 2, 2, 2))\n",
      "\n",
      "State after the oracle:\n",
      "[ 1.-0.j -0.-0.j  0.-0.j -0.-0.j  0.-0.j -0.-0.j  0.-0.j -0.-0.j  0.-0.j\n",
      " -0.-0.j  0.-0.j -0.-0.j  0.-0.j -0.-0.j  0.-0.j -0.-0.j  0.-0.j  0.-0.j\n",
      "  0.-0.j  0.-0.j  0.-0.j  0.-0.j  0.-0.j  0.-0.j  0.-0.j  0.-0.j  0.-0.j\n",
      "  0.-0.j  0.-0.j  0.-0.j  0.-0.j  0.-0.j]\n"
     ]
    },
    {
     "name": "stderr",
     "output_type": "stream",
     "text": [
      "/tmp/ipykernel_60/468063785.py:37: DeprecationWarning: The return type of saved statevectors has been changed from a `numpy.ndarray` to a `qiskit.quantum_info.Statevector` as of qiskit-aer 0.10. Accessing numpy array attributes is deprecated and will result in an error in a future release. To continue using saved result objects as arrays you can explicitly cast them using  `np.asarray(object)`.\n",
      "  print(statevector.conj())\n"
     ]
    },
    {
     "data": {
      "image/png": "[encoded data removed]",
      "text/plain": [
       "<Figure size 389.136x451.5 with 1 Axes>"
      ]
     },
     "execution_count": 3,
     "metadata": {},
     "output_type": "execute_result"
    }
   ],
   "source": [
    "from qiskit import QuantumCircuit, QuantumRegister, Aer, execute\n",
    "\n",
    "def build_oracle(input_string):\n",
    "    num_qubits = len(input_string)\n",
    "    \n",
    "    qr = QuantumRegister(num_qubits)\n",
    "    qc = QuantumCircuit(qr)\n",
    "    \n",
    "    # Apply X gates to qubits corresponding to 1s in the input string\n",
    "    for i, bit in enumerate(input_string):\n",
    "        if bit == 1:\n",
    "            qc.x(qr[i])\n",
    "    \n",
    "    # Apply the phase inversion to the state |01101>\n",
    "    qc.cz(qr[0], qr[num_qubits-1])\n",
    "    \n",
    "    # Apply X gates again to qubits corresponding to 1s in the input string\n",
    "    for i, bit in enumerate(input_string):\n",
    "        if bit == 1:\n",
    "            qc.x(qr[i])\n",
    "    \n",
    "    return qc\n",
    "\n",
    "input_string = [0, 1, 1, 0, 1]\n",
    "oracle_circuit = build_oracle(input_string)\n",
    "\n",
    "simulator = Aer.get_backend('statevector_simulator')\n",
    "job = execute(oracle_circuit, simulator)\n",
    "result = job.result()\n",
    "statevector = result.get_statevector()\n",
    "\n",
    "# Print the state before and after applying the oracle\n",
    "print(\"State before the oracle:\")\n",
    "print(statevector)\n",
    "\n",
    "print(\"\\nState after the oracle:\")\n",
    "print(statevector.conj())\n",
    "\n",
    "# Draw the quantum circuit\n",
    "oracle_circuit.draw()"
   ]
  }
 ],
 "metadata": {
  "kernelspec": {
   "display_name": "Python 3 (ipykernel)",
   "language": "python",
   "name": "python3"
  },
  "language_info": {
   "codemirror_mode": {
    "name": "ipython",
    "version": 3
   },
   "file_extension": ".py",
   "mimetype": "text/x-python",
   "name": "python",
   "nbconvert_exporter": "python",
   "pygments_lexer": "ipython3",
   "version": "3.10.8"
  },
  "widgets": {
   "application/vnd.jupyter.widget-state+json": {
    "state": {
     "10204b3fb42f4d02bfc9f9144323e449": {
      "model_module": "@jupyter-widgets/base",
      "model_module_version": "2.0.0",
      "model_name": "LayoutModel",
      "state": {}
     },
     "24092961520342a6b7ec81ae50fbd887": {
      "model_module": "@jupyter-widgets/controls",
      "model_module_version": "2.0.0",
      "model_name": "HTMLModel",
      "state": {
       "layout": "IPY_MODEL_9f293756481248918df4ad56425453ac",
       "style": "IPY_MODEL_9c5e7831d12242bbbfd15260d943aa64",
       "value": "<h5>Status</h5>"
      }
     },
     "26f81067d658470299a3b3fbb4c568ab": {
      "model_module": "@jupyter-widgets/controls",
      "model_module_version": "2.0.0",
      "model_name": "GridBoxModel",
      "state": {
       "children": [
        "IPY_MODEL_bd58abde922f4726a30f2bded6045293"
       ],
       "layout": "IPY_MODEL_9f97a2481eb04e28a608b7022644228e"
      }
     },
     "2c9c133632924140962875dd5e08c64e": {
      "model_module": "@jupyter-widgets/base",
      "model_module_version": "2.0.0",
      "model_name": "LayoutModel",
      "state": {
       "width": "70px"
      }
     },
     "3a19a317bf5b42f3b5942c8e294c7e91": {
      "model_module": "@jupyter-widgets/controls",
      "model_module_version": "2.0.0",
      "model_name": "HTMLStyleModel",
      "state": {
       "description_width": "",
       "font_size": null,
       "text_color": null
      }
     },
     "4bb09aa456cf4b42aa50f5e461cbb7cf": {
      "model_module": "@jupyter-widgets/base",
      "model_module_version": "2.0.0",
      "model_name": "LayoutModel",
      "state": {
       "margin": "0px 0px 0px 37px",
       "width": "600px"
      }
     },
     "53f465c49f8643c7a65df344c99a8795": {
      "model_module": "@jupyter-widgets/controls",
      "model_module_version": "2.0.0",
      "model_name": "HTMLModel",
      "state": {
       "layout": "IPY_MODEL_8ccfc66ab2754941bd325ab88cbf2b7b",
       "style": "IPY_MODEL_d7ea02af1965416bbd028574811a6581",
       "value": "<p style='font-family: IBM Plex Sans, Arial, Helvetica, sans-serif; font-size: 20px; font-weight: medium;'>Circuit Properties</p>"
      }
     },
     "7a8587a5f2564a109d451c148bd5dda3": {
      "model_module": "@jupyter-widgets/controls",
      "model_module_version": "2.0.0",
      "model_name": "HTMLModel",
      "state": {
       "layout": "IPY_MODEL_ce4b9470168c4a7b9f1923146e2782f6",
       "style": "IPY_MODEL_c0137c085b634f49bf57189f1f2453f3",
       "value": "<h5>Job ID</h5>"
      }
     },
     "8ccfc66ab2754941bd325ab88cbf2b7b": {
      "model_module": "@jupyter-widgets/base",
      "model_module_version": "2.0.0",
      "model_name": "LayoutModel",
      "state": {
       "margin": "0px 0px 10px 0px"
      }
     },
     "9512045cc6054d97b8fa82b9030fb573": {
      "model_module": "@jupyter-widgets/controls",
      "model_module_version": "2.0.0",
      "model_name": "HTMLStyleModel",
      "state": {
       "description_width": "",
       "font_size": null,
       "text_color": null
      }
     },
     "9c1c3824f2724c8493c3c3ac56ce6764": {
      "model_module": "@jupyter-widgets/controls",
      "model_module_version": "2.0.0",
      "model_name": "HTMLStyleModel",
      "state": {
       "description_width": "",
       "font_size": null,
       "text_color": null
      }
     },
     "9c5e7831d12242bbbfd15260d943aa64": {
      "model_module": "@jupyter-widgets/controls",
      "model_module_version": "2.0.0",
      "model_name": "HTMLStyleModel",
      "state": {
       "description_width": "",
       "font_size": null,
       "text_color": null
      }
     },
     "9f293756481248918df4ad56425453ac": {
      "model_module": "@jupyter-widgets/base",
      "model_module_version": "2.0.0",
      "model_name": "LayoutModel",
      "state": {
       "width": "95px"
      }
     },
     "9f97a2481eb04e28a608b7022644228e": {
      "model_module": "@jupyter-widgets/base",
      "model_module_version": "2.0.0",
      "model_name": "LayoutModel",
      "state": {
       "grid_template_areas": "\n                                       \". . . . right \"\n                                        ",
       "grid_template_columns": "20% 20% 20% 20% 20%",
       "width": "100%"
      }
     },
     "a9d41d26667d4e4392e9d49d24e3ce60": {
      "model_module": "@jupyter-widgets/controls",
      "model_module_version": "2.0.0",
      "model_name": "HTMLModel",
      "state": {
       "layout": "IPY_MODEL_10204b3fb42f4d02bfc9f9144323e449",
       "style": "IPY_MODEL_9512045cc6054d97b8fa82b9030fb573",
       "value": "<h5>Message</h5>"
      }
     },
     "bd58abde922f4726a30f2bded6045293": {
      "model_module": "@jupyter-widgets/controls",
      "model_module_version": "2.0.0",
      "model_name": "ButtonModel",
      "state": {
       "button_style": "primary",
       "description": "Clear",
       "layout": "IPY_MODEL_d5b16ad69d0048439dd71c539b0da469",
       "style": "IPY_MODEL_de9ec4cb0f864dbcab58d5b45c8ed4c0",
       "tooltip": null
      }
     },
     "c0137c085b634f49bf57189f1f2453f3": {
      "model_module": "@jupyter-widgets/controls",
      "model_module_version": "2.0.0",
      "model_name": "HTMLStyleModel",
      "state": {
       "description_width": "",
       "font_size": null,
       "text_color": null
      }
     },
     "ca05a92cdc354432a306f4db6755f0ac": {
      "model_module": "@jupyter-widgets/controls",
      "model_module_version": "2.0.0",
      "model_name": "HTMLModel",
      "state": {
       "layout": "IPY_MODEL_f3466cdf030444e981ab54462bc0b70b",
       "style": "IPY_MODEL_3a19a317bf5b42f3b5942c8e294c7e91",
       "value": "<h5>Backend</h5>"
      }
     },
     "ce4b9470168c4a7b9f1923146e2782f6": {
      "model_module": "@jupyter-widgets/base",
      "model_module_version": "2.0.0",
      "model_name": "LayoutModel",
      "state": {
       "width": "190px"
      }
     },
     "d41442cd7b54418a864c15fccc43fdc8": {
      "model_module": "@jupyter-widgets/controls",
      "model_module_version": "2.0.0",
      "model_name": "HTMLModel",
      "state": {
       "layout": "IPY_MODEL_2c9c133632924140962875dd5e08c64e",
       "style": "IPY_MODEL_9c1c3824f2724c8493c3c3ac56ce6764",
       "value": "<h5>Queue</h5>"
      }
     },
     "d5b16ad69d0048439dd71c539b0da469": {
      "model_module": "@jupyter-widgets/base",
      "model_module_version": "2.0.0",
      "model_name": "LayoutModel",
      "state": {
       "grid_area": "right",
       "padding": "0px 0px 0px 0px",
       "width": "70px"
      }
     },
     "d7ea02af1965416bbd028574811a6581": {
      "model_module": "@jupyter-widgets/controls",
      "model_module_version": "2.0.0",
      "model_name": "HTMLStyleModel",
      "state": {
       "description_width": "",
       "font_size": null,
       "text_color": null
      }
     },
     "de9ec4cb0f864dbcab58d5b45c8ed4c0": {
      "model_module": "@jupyter-widgets/controls",
      "model_module_version": "2.0.0",
      "model_name": "ButtonStyleModel",
      "state": {
       "font_family": null,
       "font_size": null,
       "font_style": null,
       "font_variant": null,
       "font_weight": null,
       "text_color": null,
       "text_decoration": null
      }
     },
     "f3466cdf030444e981ab54462bc0b70b": {
      "model_module": "@jupyter-widgets/base",
      "model_module_version": "2.0.0",
      "model_name": "LayoutModel",
      "state": {
       "width": "145px"
      }
     },
     "fca9d42697214b64ac740f33feae17e8": {
      "model_module": "@jupyter-widgets/controls",
      "model_module_version": "2.0.0",
      "model_name": "HBoxModel",
      "state": {
       "children": [
        "IPY_MODEL_7a8587a5f2564a109d451c148bd5dda3",
        "IPY_MODEL_ca05a92cdc354432a306f4db6755f0ac",
        "IPY_MODEL_24092961520342a6b7ec81ae50fbd887",
        "IPY_MODEL_d41442cd7b54418a864c15fccc43fdc8",
        "IPY_MODEL_a9d41d26667d4e4392e9d49d24e3ce60"
       ],
       "layout": "IPY_MODEL_4bb09aa456cf4b42aa50f5e461cbb7cf"
      }
     }
    },
    "version_major": 2,
    "version_minor": 0
   }
  }
 },
 "nbformat": 4,
 "nbformat_minor": 5
}
